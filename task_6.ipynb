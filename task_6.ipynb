{
 "cells": [
  {
   "cell_type": "code",
   "execution_count": 1,
   "id": "743e1320",
   "metadata": {},
   "outputs": [
    {
     "name": "stdout",
     "output_type": "stream",
     "text": [
      "{'title': 'A Light in the Attic', 'price': 'Â£51.77'}\n",
      "{'title': 'Tipping the Velvet', 'price': 'Â£53.74'}\n",
      "{'title': 'Soumission', 'price': 'Â£50.10'}\n",
      "{'title': 'Sharp Objects', 'price': 'Â£47.82'}\n",
      "{'title': 'Sapiens: A Brief History of Humankind', 'price': 'Â£54.23'}\n",
      "{'title': 'The Requiem Red', 'price': 'Â£22.65'}\n",
      "{'title': 'The Dirty Little Secrets of Getting Your Dream Job', 'price': 'Â£33.34'}\n",
      "{'title': 'The Coming Woman: A Novel Based on the Life of the Infamous Feminist, Victoria Woodhull', 'price': 'Â£17.93'}\n",
      "{'title': 'The Boys in the Boat: Nine Americans and Their Epic Quest for Gold at the 1936 Berlin Olympics', 'price': 'Â£22.60'}\n",
      "{'title': 'The Black Maria', 'price': 'Â£52.15'}\n",
      "{'title': 'Starving Hearts (Triangular Trade Trilogy, #1)', 'price': 'Â£13.99'}\n",
      "{'title': \"Shakespeare's Sonnets\", 'price': 'Â£20.66'}\n",
      "{'title': 'Set Me Free', 'price': 'Â£17.46'}\n",
      "{'title': \"Scott Pilgrim's Precious Little Life (Scott Pilgrim #1)\", 'price': 'Â£52.29'}\n",
      "{'title': 'Rip it Up and Start Again', 'price': 'Â£35.02'}\n",
      "{'title': 'Our Band Could Be Your Life: Scenes from the American Indie Underground, 1981-1991', 'price': 'Â£57.25'}\n",
      "{'title': 'Olio', 'price': 'Â£23.88'}\n",
      "{'title': 'Mesaerion: The Best Science Fiction Stories 1800-1849', 'price': 'Â£37.59'}\n",
      "{'title': 'Libertarianism for Beginners', 'price': 'Â£51.33'}\n",
      "{'title': \"It's Only the Himalayas\", 'price': 'Â£45.17'}\n",
      "{'title': 'In Her Wake', 'price': 'Â£12.84'}\n",
      "{'title': 'How Music Works', 'price': 'Â£37.32'}\n",
      "{'title': 'Foolproof Preserving: A Guide to Small Batch Jams, Jellies, Pickles, Condiments, and More: A Foolproof Guide to Making Small Batch Jams, Jellies, Pickles, Condiments, and More', 'price': 'Â£30.52'}\n",
      "{'title': 'Chase Me (Paris Nights #2)', 'price': 'Â£25.27'}\n",
      "{'title': 'Black Dust', 'price': 'Â£34.53'}\n",
      "{'title': 'Birdsong: A Story in Pictures', 'price': 'Â£54.64'}\n",
      "{'title': \"America's Cradle of Quarterbacks: Western Pennsylvania's Football Factory from Johnny Unitas to Joe Montana\", 'price': 'Â£22.50'}\n",
      "{'title': 'Aladdin and His Wonderful Lamp', 'price': 'Â£53.13'}\n",
      "{'title': 'Worlds Elsewhere: Journeys Around Shakespeareâ\\x80\\x99s Globe', 'price': 'Â£40.30'}\n",
      "{'title': 'Wall and Piece', 'price': 'Â£44.18'}\n",
      "{'title': 'The Four Agreements: A Practical Guide to Personal Freedom', 'price': 'Â£17.66'}\n",
      "{'title': 'The Five Love Languages: How to Express Heartfelt Commitment to Your Mate', 'price': 'Â£31.05'}\n",
      "{'title': 'The Elephant Tree', 'price': 'Â£23.82'}\n",
      "{'title': 'The Bear and the Piano', 'price': 'Â£36.89'}\n",
      "{'title': \"Sophie's World\", 'price': 'Â£15.94'}\n",
      "{'title': 'Penny Maybe', 'price': 'Â£33.29'}\n",
      "{'title': 'Maude (1883-1993):She Grew Up with the country', 'price': 'Â£18.02'}\n",
      "{'title': 'In a Dark, Dark Wood', 'price': 'Â£19.63'}\n",
      "{'title': 'Behind Closed Doors', 'price': 'Â£52.22'}\n",
      "{'title': \"You can't bury them all: Poems\", 'price': 'Â£33.63'}\n"
     ]
    }
   ],
   "source": [
    "\n",
    "\n",
    "import requests\n",
    "from bs4 import BeautifulSoup\n",
    "\n",
    "BASE_URL = \"http://books.toscrape.com/\"\n",
    "\n",
    "def get_books_from_page(url):\n",
    "    res = requests.get(url)\n",
    "    soup = BeautifulSoup(res.text, \"html.parser\")\n",
    "    books = []\n",
    "    articles = soup.select(\"article.product_pod\")\n",
    "    for article in articles:\n",
    "        title = article.h3.a[\"title\"]\n",
    "        price = article.select_one(\".price_color\").text.strip()\n",
    "        books.append({\"title\": title, \"price\": price})\n",
    "    return books\n",
    "\n",
    "books = []\n",
    "# Page 1\n",
    "books.extend(get_books_from_page(BASE_URL))\n",
    "# Page 2\n",
    "page_2_url = BASE_URL + \"catalogue/page-2.html\"\n",
    "books.extend(get_books_from_page(page_2_url))\n",
    "\n",
    "# Print the result\n",
    "for book in books:\n",
    "    print(book)"
   ]
  },
  {
   "cell_type": "code",
   "execution_count": 2,
   "id": "e291a0ea",
   "metadata": {},
   "outputs": [
    {
     "name": "stdout",
     "output_type": "stream",
     "text": [
      "      City         Description Temperature (°C)\n",
      "0  Jalgaon       Light drizzle               26\n",
      "1    Dhule       Light drizzle               26\n",
      "2    Thane                Haze               29\n",
      "3   Nashik  Patchy rain nearby               23\n",
      "4     Pune  Patchy rain nearby               21\n"
     ]
    }
   ],
   "source": [
    "import requests\n",
    "import pandas as pd\n",
    "\n",
    "# List of cities to check\n",
    "cities = [\"Jalgaon\", \"Dhule\", \"Thane\", \"Nashik\", \"Pune\"]\n",
    "\n",
    "# Empty list to store weather data\n",
    "weather_data = []\n",
    "\n",
    "for city in cities:\n",
    "    # Get data from wttr.in in JSON format\n",
    "    url = f\"https://wttr.in/{city}?format=j1\"\n",
    "    response = requests.get(url)\n",
    "    data = response.json()\n",
    "    \n",
    "    # Extract weather details\n",
    "    description = data[\"current_condition\"][0][\"weatherDesc\"][0][\"value\"]\n",
    "    temperature = data[\"current_condition\"][0][\"temp_C\"]\n",
    "    \n",
    "    weather_data.append({\n",
    "        \"City\": city,\n",
    "        \"Description\": description,\n",
    "        \"Temperature (°C)\": temperature\n",
    "    })\n",
    "\n",
    "# Create DataFrame\n",
    "df = pd.DataFrame(weather_data)\n",
    "\n",
    "# Display table\n",
    "print(df)"
   ]
  },
  {
   "cell_type": "code",
   "execution_count": 3,
   "id": "38d5648c",
   "metadata": {},
   "outputs": [
    {
     "name": "stdout",
     "output_type": "stream",
     "text": [
      "Saved 300 jobs to fake_jobs.csv\n"
     ]
    }
   ],
   "source": [
    "import requests\n",
    "from bs4 import BeautifulSoup\n",
    "import pandas as pd\n",
    "\n",
    "base_url = \"https://realpython.github.io/fake-jobs/\"\n",
    "results = []\n",
    "\n",
    "for page_num in range(1, 4):\n",
    "    if page_num == 1:\n",
    "        url = base_url\n",
    "    else:\n",
    "        url = f\"{base_url}?page={page_num}\"\n",
    "    response = requests.get(url)\n",
    "    soup = BeautifulSoup(response.text, \"html.parser\")\n",
    "    jobs = soup.find_all(\"div\", class_=\"card-content\")\n",
    "    \n",
    "    for job in jobs:\n",
    "        title = job.find(\"h2\", class_=\"title\").text.strip()\n",
    "        company = job.find(\"h3\", class_=\"company\").text.strip()\n",
    "        location = job.find(\"p\", class_=\"location\").text.strip()\n",
    "        results.append({\"title\": title, \"company\": company, \"location\": location})\n",
    "\n",
    "# Save to CSV\n",
    "df = pd.DataFrame(results)\n",
    "df.to_csv(\"fake_jobs.csv\", index=False)\n",
    "\n",
    "print(f\"Saved {len(results)} jobs to fake_jobs.csv\")"
   ]
  },
  {
   "cell_type": "code",
   "execution_count": null,
   "id": "b3f6445c",
   "metadata": {},
   "outputs": [],
   "source": []
  }
 ],
 "metadata": {
  "kernelspec": {
   "display_name": "Python 3",
   "language": "python",
   "name": "python3"
  },
  "language_info": {
   "codemirror_mode": {
    "name": "ipython",
    "version": 3
   },
   "file_extension": ".py",
   "mimetype": "text/x-python",
   "name": "python",
   "nbconvert_exporter": "python",
   "pygments_lexer": "ipython3",
   "version": "3.13.4"
  }
 },
 "nbformat": 4,
 "nbformat_minor": 5
}
